{
 "metadata": {
  "language_info": {
   "codemirror_mode": {
    "name": "ipython",
    "version": 3
   },
   "file_extension": ".py",
   "mimetype": "text/x-python",
   "name": "python",
   "nbconvert_exporter": "python",
   "pygments_lexer": "ipython3",
   "version": "3.7.6-final"
  },
  "orig_nbformat": 2,
  "kernelspec": {
   "name": "python3",
   "display_name": "Python 3",
   "language": "python"
  }
 },
 "nbformat": 4,
 "nbformat_minor": 2,
 "cells": [
  {
   "cell_type": "code",
   "execution_count": 1,
   "metadata": {},
   "outputs": [],
   "source": [
    "import numpy as np\n",
    "import pandas as pd\n",
    "import os, sys, re\n",
    "\n",
    "from pylsl import StreamInlet, resolve_stream\n",
    "import time"
   ]
  },
  {
   "cell_type": "code",
   "execution_count": 18,
   "metadata": {},
   "outputs": [],
   "source": [
    "streams = {stream.name(): stream for stream in resolve_stream('type', 'EEG') }\n",
    "\n",
    "fft = StreamInlet(streams['obci_eeg1'])\n",
    "emg = StreamInlet(streams['obci_eeg2'])\n",
    "\n",
    "fft_data = []\n",
    "emg_data = []"
   ]
  },
  {
   "cell_type": "code",
   "execution_count": 19,
   "metadata": {},
   "outputs": [],
   "source": [
    "###### \n",
    "start_time = time.time()\n",
    "while time.time() - start_time < 20:\n",
    "    sample, timestamp = fft.pull_sample()\n",
    "    fft_data.append({'timestamp': timestamp, 'sample': sample})\n",
    "\n",
    "    sample, timestamp = emg.pull_sample()\n",
    "    emg_data.append({'timestamp': timestamp, 'sample': sample})"
   ]
  },
  {
   "source": [
    "df_fft = pd.DataFrame(fft_data)\n",
    "df_fft.timestamp = df_fft.timestamp - df_fft.timestamp[0]\n",
    "df_fft = pd.DataFrame(df_fft[\"sample\"].to_list(), columns=range(0,len(fft_data[0]['sample'])), index= df_fft.timestamp)"
   ],
   "cell_type": "code",
   "metadata": {},
   "execution_count": null,
   "outputs": []
  },
  {
   "source": [
    "df_emg = pd.DataFrame(emg_data)\n",
    "df_emg.timestamp = df_emg.timestamp - df_emg.timestamp[0]\n",
    "df_emg = pd.DataFrame(df_emg[\"sample\"].to_list(), columns=range(0,8), index= df_emg.timestamp)"
   ],
   "cell_type": "code",
   "metadata": {},
   "execution_count": null,
   "outputs": []
  },
  {
   "cell_type": "code",
   "execution_count": null,
   "metadata": {},
   "outputs": [],
   "source": [
    "df_emg.to_excel('emg_menton.xlsx')\n",
    "df_fft.to_excel('fft_menton.xlsx')"
   ]
  }
 ]
}